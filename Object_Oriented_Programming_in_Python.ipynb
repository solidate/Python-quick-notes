{
  "nbformat": 4,
  "nbformat_minor": 0,
  "metadata": {
    "colab": {
      "name": "Object Oriented Programming in Python.ipynb",
      "provenance": [],
      "private_outputs": true,
      "collapsed_sections": [
        "HkHWJ8u7kNjs",
        "z6NOGR6upXpP",
        "_y_fYcXbA5VU",
        "P8d_x30eqZkD"
      ]
    },
    "kernelspec": {
      "name": "python3",
      "display_name": "Python 3"
    }
  },
  "cells": [
    {
      "cell_type": "markdown",
      "metadata": {
        "id": "QeqBYAozZB75",
        "colab_type": "text"
      },
      "source": [
        "This notebook contains the definition of basic concepts and also the code snippets associated with the topics. Just for use as a quick reference.\n"
      ]
    },
    {
      "cell_type": "markdown",
      "metadata": {
        "id": "sOHlBDLbZaXe",
        "colab_type": "text"
      },
      "source": [
        "Ques. What is Object Oriented Programming? \n",
        "\n",
        "Ans. OOP is a programming paradigm based on the concept of 'objects', which may contain data, in the form of fields, often refer to as attributes, and code, in the form of procedures, often known as methods. eg. A person is an object which has certain properties such as height, gender, age etc. It also has certain method such as move, talk and so on.\n"
      ]
    },
    {
      "cell_type": "markdown",
      "metadata": {
        "id": "oxUfGssMme9N",
        "colab_type": "text"
      },
      "source": [
        "Ques. What are Objects in OOP?\n",
        "\n",
        "Ans. Objects are the basic units of Object -Oriented Programming. That is both data and Functions that operate on data are bundled as a unit.  It has its own state, behavior, and identity."
      ]
    },
    {
      "cell_type": "markdown",
      "metadata": {
        "id": "kYDJjsnkmzbo",
        "colab_type": "text"
      },
      "source": [
        "Ques. What are classes?\n",
        "\n",
        "Ans. Classes are basically a blueprint containing all the characteristics(fields) and operations(functions) tha can be implemented later on using object. \n",
        "\n",
        "An object is an instance of the class that inherits all the characteristics nad funcionality of the class. Classes itself doen't occupy any aspace in the memory because they are essentially are blue prints. Object which are instances of the classes do occupy space in the memory."
      ]
    },
    {
      "cell_type": "markdown",
      "metadata": {
        "id": "qWQxqy6Qno_n",
        "colab_type": "text"
      },
      "source": [
        "Ques. Write basic concepts of OOPS?\n",
        "\n",
        "Ans. OOP has four basic concepts on which it is totally based.\n",
        "\n",
        "\n",
        "1.   Abstraction - It refers to, providing only essential information to the outside world and hidhing their background details. e.g. a web server hides how it processes the data receives, the end user just hits the endpoints and gets the data back.\n",
        "\n",
        "2.   Encapsulation. - Encapsulation is a process of binding data members(variables, properties) and member functions(methods) into single unit. It is also a way of restricting access to certain properties or component. e.g. Class\n",
        ".\n",
        "3.   Inheritance - Inheritance is the ability to create a new class from an existing class. Using Inheritance, we can create a child class from a Parent class such thatit inherits the properties and methods of the parent class and can have its own additional properties and methods. e.g. if we have a class vehicle that has properties like color, price etc. we can create 2 classes like Bike and Car from it that have those 2 properties and additional properties that are specialized for them like a car has 4 wheels while a bike has just 2.\n",
        "\n",
        "4.   Polymorphism - The word polymorphism means having many forms. Typically, polymorphism occurs when there is hierarchy of classes and they are related by inheritance. eg. Method overloading, Operator overloading.\n",
        "\n",
        "\n"
      ]
    },
    {
      "cell_type": "markdown",
      "metadata": {
        "id": "Ej_YpODVXBj0",
        "colab_type": "text"
      },
      "source": [
        "Overview of OOP Terminology\n",
        "\n",
        "Class − A user-defined prototype for an object that defines a set of attributes that characterize any object of the class. The attributes are data members (class variables and instance variables) and methods, accessed via dot notation.\n",
        "\n",
        "Class variable − A variable that is shared by all instances of a class. Class variables are defined within a class but outside any of the class's methods. Class variables are not used as frequently as instance variables are.\n",
        "\n",
        "Data member − A class variable or instance variable that holds data associated with a class and its objects.\n",
        "\n",
        "Function overloading − The assignment of more than one behavior to a particular function. The operation performed varies by the types of objects or arguments involved.\n",
        "\n",
        "Instance variable − A variable that is defined inside a method and belongs only to the current instance of a class.\n",
        "\n",
        "Inheritance − The transfer of the characteristics of a class to other classes that are derived from it.\n",
        "\n",
        "Instance − An individual object of a certain class. An object obj that belongs to a class Circle, for example, is an instance of the class Circle.\n",
        "\n",
        "Instantiation − The creation of an instance of a class.\n",
        "\n",
        "Method − A special kind of function that is defined in a class definition.\n",
        "\n",
        "Object − A unique instance of a data structure that's defined by its class. An object comprises both data members (class variables and instance variables) and methods.\n",
        "\n",
        "Operator overloading − The assignment of more than one function to a particular operator."
      ]
    },
    {
      "cell_type": "code",
      "metadata": {
        "id": "eYjsrc4tYbGq",
        "colab_type": "code",
        "colab": {}
      },
      "source": [
        "class Employee: #The class statement creates a new class definition. The name of the class immediately follows the keyword class followed by a colon\n",
        "   'Common base class for all employees' #The class has a documentation string, which can be accessed via ClassName.__doc__.\n",
        "   empCount = 0 #The variable empCount is a class variable whose value is shared among all instances of a this class. This can be accessed as Employee.empCount from inside the class or outside the class.\n",
        "\n",
        "   # A constructor is a method used to initialize the state of an object, and it gets invoked at the time of object creation\n",
        "   def __init__(self, name, salary): #The first method __init__() is a special method, which is called class constructor or initialization method that Python calls when you create a new instance of this class.\n",
        "      self.name = name\n",
        "      self.salary = salary\n",
        "      Employee.empCount += 1\n",
        "   \n",
        "   def displayCount(self):\n",
        "     print(\"Total Employee %d\" % Employee.empCount)\n",
        "\n",
        "   def displayEmployee(self):\n",
        "      print(\"Name : \", self.name,  \", Salary: \", self.salary)"
      ],
      "execution_count": 0,
      "outputs": []
    },
    {
      "cell_type": "code",
      "metadata": {
        "id": "aPD7LaGLZJbq",
        "colab_type": "code",
        "colab": {}
      },
      "source": [
        "\"This would create first object of Employee class\"\n",
        "emp1 = Employee(\"Zara\", 2000)\n",
        "\"This would create second object of Employee class\"\n",
        "emp2 = Employee(\"Manni\", 5000)"
      ],
      "execution_count": 0,
      "outputs": []
    },
    {
      "cell_type": "code",
      "metadata": {
        "id": "ZrCkntBkZZJf",
        "colab_type": "code",
        "colab": {}
      },
      "source": [
        "emp1.displayEmployee()\n",
        "emp2.displayEmployee()\n",
        "print(\"Total Employee %d\" % Employee.empCount)"
      ],
      "execution_count": 0,
      "outputs": []
    },
    {
      "cell_type": "code",
      "metadata": {
        "id": "4_QpxBRqZfyq",
        "colab_type": "code",
        "colab": {}
      },
      "source": [
        "#We can add, remove, or modify attributes of classes and objects at any time −\n",
        "emp1.age = 7  # Add an 'age' attribute.\n",
        "emp1.age = 8  # Modify 'age' attribute.\n",
        "print(emp1.age)\n",
        "#del emp1.age  # Delete 'age' attribute."
      ],
      "execution_count": 0,
      "outputs": []
    },
    {
      "cell_type": "markdown",
      "metadata": {
        "id": "riYSAXZQZ8cf",
        "colab_type": "text"
      },
      "source": [
        "Instead of using the normal statements to access attributes, you can use the following functions −\n",
        "\n",
        "\n",
        "1.   The getattr(obj, name[, default]) − to access the attribute of object.\n",
        "\n",
        "2.   The hasattr(obj,name) − to check if an attribute exists or not.\n",
        "\n",
        "\n",
        "\n",
        "3.   The setattr(obj,name,value) − to set an attribute. If attribute does not exist, then it would be created.\n",
        "4.   The delattr(obj, name) − to delete an attribute.\n"
      ]
    },
    {
      "cell_type": "code",
      "metadata": {
        "id": "i51MHaGlZ2ZW",
        "colab_type": "code",
        "colab": {}
      },
      "source": [
        "hasattr(emp1, 'age')    # Returns true if 'age' attribute exists\n",
        "getattr(emp1, 'age')    # Returns value of 'age' attribute\n",
        "setattr(emp1, 'age', 8) # Set attribute 'age' at 8\n",
        "delattr(emp1, 'age')    # Delete attribute 'age'"
      ],
      "execution_count": 0,
      "outputs": []
    },
    {
      "cell_type": "markdown",
      "metadata": {
        "id": "uISLnuyfanfG",
        "colab_type": "text"
      },
      "source": [
        "Every Python class keeps following built-in attributes and they can be accessed using dot operator like any other attribute −\n",
        "\n",
        "1. \\__dict\\__ − Dictionary containing the class's namespace.\n",
        "\n",
        "2. \\__doc\\__ − Class documentation string or none, if undefined.\n",
        "\n",
        "3. \\__name\\__ − Class name.\n",
        "\n",
        "4. \\__module\\__ − Module name in which the class is defined. This attribute is \"\\__main\\__\" in interactive mode.\n",
        "\n",
        "5. \\__bases\\__ − A possibly empty tuple containing the base classes, in the order of their occurrence in the base class list."
      ]
    },
    {
      "cell_type": "code",
      "metadata": {
        "id": "oyBYGL5zadms",
        "colab_type": "code",
        "colab": {}
      },
      "source": [
        "print( \"Employee.__doc__:\", Employee.__doc__)\n",
        "print(\"Employee.__name__:\", Employee.__name__)\n",
        "print(\"Employee.__module__:\", Employee.__module__)\n",
        "print(\"Employee.__bases__:\", Employee.__bases__)\n",
        "print(\"Employee.__dict__:\", Employee.__dict__)"
      ],
      "execution_count": 0,
      "outputs": []
    },
    {
      "cell_type": "markdown",
      "metadata": {
        "id": "vGjDqUp0dZ4Q",
        "colab_type": "text"
      },
      "source": [
        "## Class Inheritance\n",
        "Instead of starting from scratch, you can create a class by deriving it from a preexisting class by listing the parent class in parentheses after the new class name.\n",
        "\n",
        "The child class inherits the attributes of its parent class, and you can use those attributes as if they were defined in the child class. A child class can also override data members and methods from the parent.\n"
      ]
    },
    {
      "cell_type": "code",
      "metadata": {
        "id": "XaZm9RQ9dSud",
        "colab_type": "code",
        "colab": {}
      },
      "source": [
        "\n",
        "#!/usr/bin/python\n",
        "\n",
        "class Parent:        # define parent class\n",
        "   parentAttr = 100\n",
        "   __privateParentAttr = 'private' #private attribute not accessible outside class objects and child\n",
        "   def __init__(self):\n",
        "      print(\"Calling parent constructor\")\n",
        "\n",
        "   def parentMethod(self):\n",
        "      print('Calling parent method')\n",
        "\n",
        "   def setAttr(self, attr):\n",
        "      Parent.parentAttr = attr\n",
        "\n",
        "\n",
        "   def getAttr(self):\n",
        "      print(\"Parent attribute :\", Parent.parentAttr,\"Private: \",Parent.__privateParentAttr)\n",
        "\n",
        "class Child(Parent): # define child class\n",
        "   def __init__(self):\n",
        "      print(\"Calling child constructor\")\n",
        "\n",
        "   def childMethod(self):\n",
        "      print('Calling child method')\n",
        "\n",
        "c = Child()          # instance of child\n",
        "c.childMethod()      # child calls its method\n",
        "c.parentMethod()     # calls parent's method\n",
        "c.setAttr(200)       # again call parent's method\n",
        "c.getAttr()          # again call parent's method\n",
        "c.__privateParentAttr = 'hello'\n",
        "print(c.__privateParentAttr )\n",
        "print(Parent.__privateParentAttr)"
      ],
      "execution_count": 0,
      "outputs": []
    },
    {
      "cell_type": "markdown",
      "metadata": {
        "id": "IcBUgm3teEs2",
        "colab_type": "text"
      },
      "source": [
        "you can drive a class from multiple parent classes as follows −\n",
        "```\n",
        "class A:        # define your class A\n",
        ".....\n",
        "\n",
        "class B:         # define your class B\n",
        ".....\n",
        "\n",
        "class C(A, B):   # subclass of A and B\n",
        ".....\n",
        "```"
      ]
    },
    {
      "cell_type": "code",
      "metadata": {
        "id": "XGVIXCsGdB4j",
        "colab_type": "code",
        "colab": {}
      },
      "source": [
        "class A:\n",
        "  def __init__(self):\n",
        "    self.first_A = 'A'\n",
        "    self.second_A = 'B'\n",
        "\n",
        "  def prin_A(self):\n",
        "    A()\n",
        "    print('first:',self.first_A,'second:',self.second_A)\n",
        "class B:\n",
        "  def __init(self):\n",
        "    self.first_B = 'I'\n",
        "    self.second_B = 'II'\n",
        "  \n",
        "  def prin_B(self):\n",
        "    B()\n",
        "    print('first:',self.first_B,'second:',self.second_B)\n",
        "\n",
        "class C(A,B):\n",
        "  def __init__(self):\n",
        "    self.first = 1\n",
        "    self.second = 2\n",
        "    self.prin()\n",
        "\n",
        "  def prin(self):\n",
        "    print('first: ',self.first,'second: ',self.second)\n",
        "\n",
        "obj = C()\n",
        "obj.first_A = 'A1'\n",
        "obj.second_A = 'B1'\n",
        "obj.prin_A()\n",
        "#print(obj._bases_)"
      ],
      "execution_count": 0,
      "outputs": []
    },
    {
      "cell_type": "markdown",
      "metadata": {
        "id": "7yHrG-RShh9T",
        "colab_type": "text"
      },
      "source": [
        "You can use issubclass() or isinstance() functions to check a relationships of two classes and instances.\n",
        "\n",
        "The issubclass(sub, sup) boolean function returns true if the given subclass sub is indeed a subclass of the superclass sup.\n",
        "\n",
        "The isinstance(obj, Class) boolean function returns true if obj is an instance of class Class or is an instance of a subclass of Class"
      ]
    },
    {
      "cell_type": "code",
      "metadata": {
        "id": "TeDacxt1efUp",
        "colab_type": "code",
        "colab": {}
      },
      "source": [
        "print(isinstance(obj,C))\n",
        "print(isinstance(obj,A))# obj is inheriting from A\n",
        "print(isinstance(obj,B))# obj is inheriting from B\n",
        "print(issubclass(C,A))\n",
        "print(issubclass(B,A))"
      ],
      "execution_count": 0,
      "outputs": []
    },
    {
      "cell_type": "markdown",
      "metadata": {
        "id": "eMCo-PQYkHm8",
        "colab_type": "text"
      },
      "source": [
        "Bitwise operation\n",
        "\n",
        "~x is equivalent to -x-1"
      ]
    },
    {
      "cell_type": "code",
      "metadata": {
        "id": "-bHGtOB5hqoP",
        "colab_type": "code",
        "colab": {}
      },
      "source": [
        "print(~7)"
      ],
      "execution_count": 0,
      "outputs": []
    },
    {
      "cell_type": "markdown",
      "metadata": {
        "id": "HkHWJ8u7kNjs",
        "colab_type": "text"
      },
      "source": [
        "## Inline function\n",
        "Python lambda functions, also known as anonymous functions, are inline functions that do not have a name. They are created with the lambda keyword. This is part of the functional paradigm built-in Python.\n"
      ]
    },
    {
      "cell_type": "code",
      "metadata": {
        "id": "YogVbS5PjCmm",
        "colab_type": "code",
        "colab": {}
      },
      "source": [
        "func = lambda x: x+1\n",
        "func(1)"
      ],
      "execution_count": 0,
      "outputs": []
    },
    {
      "cell_type": "markdown",
      "metadata": {
        "id": "z6NOGR6upXpP",
        "colab_type": "text"
      },
      "source": [
        "## super()\n",
        "In Python, super() has two major use cases:\n",
        "\n",
        "Allows us to avoid using the base class name explicitly\n",
        "\n",
        "Working with Multiple Inheritance\n"
      ]
    },
    {
      "cell_type": "code",
      "metadata": {
        "id": "bHgagzGTkWp9",
        "colab_type": "code",
        "colab": {}
      },
      "source": [
        "class Mammal(object):\n",
        "  def __init__(self, mammalName):\n",
        "    print(mammalName, 'is a warm-blooded animal.')\n",
        "    \n",
        "class Dog(Mammal):\n",
        "  def __init__(self):\n",
        "    print('Dog has four legs.')\n",
        "    super().__init__('Dog')\n",
        "    \n",
        "d1 = Dog()"
      ],
      "execution_count": 0,
      "outputs": []
    },
    {
      "cell_type": "code",
      "metadata": {
        "id": "gFLYyI-2pffD",
        "colab_type": "code",
        "colab": {}
      },
      "source": [
        "class Animal:\n",
        "  def __init__(self, Animal):\n",
        "    print(Animal, 'is an animal.');\n",
        "\n",
        "class Mammal(Animal):\n",
        "  def __init__(self, mammalName):\n",
        "    print(mammalName, 'is a warm-blooded animal.')\n",
        "    super().__init__(mammalName)\n",
        "    \n",
        "class NonWingedMammal(Mammal):\n",
        "  def __init__(self, NonWingedMammal):\n",
        "    print(NonWingedMammal, \"can't fly.\")\n",
        "    super().__init__(NonWingedMammal)\n",
        "\n",
        "class NonMarineMammal(Mammal):\n",
        "  def __init__(self, NonMarineMammal):\n",
        "    print(NonMarineMammal, \"can't swim.\")\n",
        "    super().__init__(NonMarineMammal)\n",
        "\n",
        "class Dog(NonMarineMammal, NonWingedMammal):\n",
        "  def __init__(self):\n",
        "    print('Dog has 4 legs.');\n",
        "    super().__init__('Dog')\n",
        "    \n",
        "d = Dog()\n",
        "print('')\n",
        "bat = NonMarineMammal('Bat')"
      ],
      "execution_count": 0,
      "outputs": []
    },
    {
      "cell_type": "markdown",
      "metadata": {
        "id": "ynRcChbJp4Fl",
        "colab_type": "text"
      },
      "source": [
        "## Method Overriding\n",
        "\n",
        "Method overriding is a concept of object oriented programming that allows us to change the implementation of a function in the child class that is defined in the parent class. It is the ability of a child class to change the implementation of any method which is already provided by one of its parent class(ancestors).\n",
        "\n",
        "Following conditions must be met for overriding a function:\n",
        "\n",
        "Inheritance should be there. Function overriding cannot be done within a class. We need to derive a child class from a parent class.\n",
        "The function that is redefined in the child class should have the same signature as in the parent class i.e. same number of parameters."
      ]
    },
    {
      "cell_type": "code",
      "metadata": {
        "id": "IMlCaqPOplCz",
        "colab_type": "code",
        "colab": {}
      },
      "source": [
        "class Animal:\n",
        "    # properties\n",
        "\tmulticellular = True\n",
        "\t# Eukaryotic means Cells with Nucleus\n",
        "\teukaryotic = True\n",
        "\t\n",
        "\t# function breathe\n",
        "\tdef breathe(self):\n",
        "\t    print(\"I breathe oxygen.\")\n",
        "    \n",
        "    # function feed\n",
        "\tdef feed(self):\n",
        "\t    print(\"I eat food.\")\n",
        "\n",
        "\n",
        "class Herbivorous(Animal):\n",
        "    \n",
        "    # function feed\n",
        "\tdef feed(self):\n",
        "\t    print(\"I eat only plants. I am vegetarian.\")\n",
        "     \n",
        "herbi = Herbivorous()\n",
        "herbi.feed()\n",
        "# calling some other function\n",
        "herbi.breathe()"
      ],
      "execution_count": 0,
      "outputs": []
    },
    {
      "cell_type": "markdown",
      "metadata": {
        "id": "CRvC69aFv3CY",
        "colab_type": "text"
      },
      "source": [
        "# Type of constructors\n",
        "\n",
        "Constructors are generally used for instantiating an object.The task of constructors is to initialize(assign values) to the data members of the class when an object of class is created.In Python the __init__() method is called the constructor and is always called when an object is created.\n",
        "```\n",
        "Syntax of constructor declaration :\n",
        "\n",
        "def __init__(self):\n",
        "    # body of the constructor\n",
        "```\n",
        "Types of constructors :\n",
        "\n",
        "\n",
        "\n",
        "1. default constructor : The default constructor is simple constructor which doesn’t accept any arguments.It’s definition has only one argument which is a reference to the instance being constructed.\n",
        "\n",
        "2. parameterized constructor : constructor with parameters is known as parameterized constructor.The parameterized constructor take its first argument as a reference to the instance being constructed known as self and the rest of the arguments are provided by the programmer."
      ]
    },
    {
      "cell_type": "code",
      "metadata": {
        "id": "0lpDehcbwj78",
        "colab_type": "code",
        "colab": {}
      },
      "source": [
        "class GeekforGeeks: \n",
        "    geek = \"\" \n",
        "  \n",
        "    # default constructor \n",
        "    def __init__(self): \n",
        "        self.geek = \"GeekforGeeks\"\n",
        "  \n",
        "    # a method for printing data members \n",
        "    def print_Geek(self): \n",
        "        print(self.geek) \n",
        "  \n",
        "  \n",
        "# creating object of the class \n",
        "obj = GeekforGeeks() \n",
        "  \n",
        "# calling the instance method using the object obj \n",
        "obj.print_Geek() "
      ],
      "execution_count": 0,
      "outputs": []
    },
    {
      "cell_type": "code",
      "metadata": {
        "id": "qsQCx4c1wegi",
        "colab_type": "code",
        "colab": {}
      },
      "source": [
        "class Addition: \n",
        "    first = 0\n",
        "    second = 0\n",
        "    answer = 0\n",
        "      \n",
        "    # parameterized constructor \n",
        "    def __init__(self, f, s): \n",
        "        self.first = f \n",
        "        self.second = s \n",
        "      \n",
        "    def display(self): \n",
        "        print(\"First number = \" + str(self.first)) \n",
        "        print(\"Second number = \" + str(self.second)) \n",
        "        print(\"Addition of two numbers = \" + str(self.answer)) \n",
        "  \n",
        "    def calculate(self): \n",
        "        self.answer = self.first + self.second \n",
        "  \n",
        "# creating object of the class \n",
        "# this will invoke parameterized constructor \n",
        "obj = Addition(1000, 2000) \n",
        "  \n",
        "# perform Addition \n",
        "obj.calculate() \n",
        "  \n",
        "# display result \n",
        "obj.display() \n"
      ],
      "execution_count": 0,
      "outputs": []
    },
    {
      "cell_type": "markdown",
      "metadata": {
        "colab_type": "text",
        "id": "v2h6Xjb3Ek5C"
      },
      "source": [
        "## Destructor\n",
        "\n",
        "Python deletes unneeded objects (built-in types or class instances) automatically to free the memory space. The process by which Python periodically reclaims blocks of memory that no longer are in use is termed Garbage Collection.\n",
        "\n",
        "Python's garbage collector runs during program execution and is triggered when an object's reference count reaches zero. An object's reference count changes as the number of aliases that point to it changes.\n",
        "\n",
        "An object's reference count increases when it is assigned a new name or placed in a container (list, tuple, or dictionary). The object's reference count decreases when it's deleted with del, its reference is reassigned, or its reference goes out of scope. When an object's reference count reaches zero, Python collects it automatically.\n",
        "\n",
        "You normally will not notice when the garbage collector destroys an orphaned instance and reclaims its space. But a class can implement the special method  \\__del\\__(), called a destructor, that is invoked when the instance is about to be destroyed. This method might be used to clean up any non memory resources used by an instance.\n",
        "\n"
      ]
    },
    {
      "cell_type": "code",
      "metadata": {
        "colab_type": "code",
        "id": "1I3gn2heEk4g",
        "colab": {}
      },
      "source": [
        "#!/usr/bin/python\n",
        "\n",
        "class Point:\n",
        "   def __init__( self, x=0, y=0):\n",
        "      self.x = x\n",
        "      self.y = y\n",
        "   def __del__(self):\n",
        "      class_name = self.__class__.__name__\n",
        "      print(class_name, \"destroyed\")\n",
        "\n",
        "pt1 = Point()\n",
        "pt2 = pt1\n",
        "pt3 = pt1\n",
        "print(id(pt1), id(pt2), id(pt3)) # prints the ids of the obejcts\n",
        "del pt1\n",
        "del pt2\n",
        "del pt3"
      ],
      "execution_count": 0,
      "outputs": []
    },
    {
      "cell_type": "markdown",
      "metadata": {
        "id": "0xL_SQVG05iN",
        "colab_type": "text"
      },
      "source": [
        "# class method vs static method in Python\n",
        "\n",
        "## Class Method\n",
        "The @classmethod decorator, is a builtin function decorator that is an expression that gets evaluated after your function is defined. The result of that evaluation shadows your function definition.\n",
        "A class method receives the class as implicit first argument, just like an instance method receives the instance\n",
        "```\n",
        "Syntax:\n",
        "\n",
        "class C(object):\n",
        "    @classmethod\n",
        "    def fun(cls, arg1, arg2, ...):\n",
        "       ....\n",
        "fun: function that needs to be converted into a class method\n",
        "returns: a class method for function.\n",
        "```\n",
        "1. A class method is a method which is bound to the class and not the object of the class.\n",
        "2. They have the access to the state of the class as it takes a class parameter that points to the class and not the object instance.\n",
        "3. It can modify a class state that would apply across all the instances of the class. For example it can modify a class variable that will be applicable to all the instances.\n",
        "\n",
        "##Static Method\n",
        "A static method does not receive an implicit first argument.\n",
        "```\n",
        "Syntax:\n",
        "\n",
        "class C(object):\n",
        "    @staticmethod\n",
        "    def fun(arg1, arg2, ...):\n",
        "        ...\n",
        "returns: a static method for function fun.\n",
        "```\n",
        "1. A static method is also a method which is bound to the class and not the object of the class.\n",
        "2. A static method can’t access or modify class state.\n",
        "3. It is present in a class because it makes sense for the method to be present in class.\n",
        "\n",
        "## Class method vs Static Method\n",
        "1. A class method takes cls as first parameter while a static method needs no specific parameters.\n",
        "2. A class method can access or modify class state while a static method can’t access or modify it.\n",
        "3. In general, static methods know nothing about class state. They are utility type methods that take some parameters and work upon those parameters. On the other hand class methods must have class as parameter.\n",
        "4. We use @classmethod decorator in python to create a class method and we use @staticmethod decorator to create a static method in python.\n",
        "\n",
        "## When to use what?\n",
        "1. We generally use class method to create factory methods. Factory methods return class object ( similar to a constructor ) for different use cases.\n",
        "2. We generally use static methods to create utility functions.\n",
        "\n",
        "## How to define a class method and a static method?\n",
        "To define a class method in python, we use @classmethod decorator and to define a static method we use @staticmethod decorator.\n",
        "Let us look at an example to understand the difference between both of them. Let us say we want to create a class Person. Now, python doesn’t support method overloading like C++ or Java so we use class methods to create factory methods. In the below example we use a class method to create a person object from birth year.\n",
        "\n",
        "As explained above we use static methods to create utility functions. In the below example we use a static method to check if a person is adult or not.\n"
      ]
    },
    {
      "cell_type": "code",
      "metadata": {
        "id": "xmmfl1vT2Buh",
        "colab_type": "code",
        "colab": {}
      },
      "source": [
        "# Python program to demonstrate  \n",
        "# use of class method and static method. \n",
        "from datetime import date \n",
        "  \n",
        "class Person: \n",
        "    def __init__(self, name, age): \n",
        "        self.name = name \n",
        "        self.age = age \n",
        "      \n",
        "    # a class method to create a Person object by birth year. \n",
        "    @classmethod\n",
        "    def fromBirthYear(cls, name, year): \n",
        "        return cls(name, date.today().year - year) \n",
        "      \n",
        "    # a static method to check if a Person is adult or not. \n",
        "    @staticmethod\n",
        "    def isAdult(age): \n",
        "        return age > 18\n",
        "  \n",
        "person1 = Person('mayank', 21) \n",
        "person2 = Person.fromBirthYear('mayank', 1996) \n",
        "  \n",
        "print(person1.age )\n",
        "print(person2.age )\n",
        "  \n",
        "# print the result \n",
        "print(Person.isAdult(22) )"
      ],
      "execution_count": 0,
      "outputs": []
    },
    {
      "cell_type": "markdown",
      "metadata": {
        "id": "EEKWnwdH75Rh",
        "colab_type": "text"
      },
      "source": [
        "# str() va repr() in python\n",
        "\n",
        "str() and repr() both are used to get a string representation of object.\n",
        "```\n",
        "1. Example of str():\n",
        "s = 'Hello, Geeks.'\n",
        "print str(s) \n",
        "print str(2.0/11.0) \n",
        "\n",
        "Output:\n",
        "Hello, Geeks.\n",
        "0.181818181818\n",
        "\n",
        "\n",
        "2. Example of repr():\n",
        "s = 'Hello, Geeks.'\n",
        "print repr(s) \n",
        "print repr(2.0/11.0) \n",
        "\n",
        "Output:\n",
        "'Hello, Geeks.'\n",
        "0.18181818181818182\n",
        "```\n",
        "From above output, we can see if we print string using repr() function then it prints with a pair of quotes and if we calculate a value we get more precise value than str() function.\n",
        "\n",
        "Following are differences:\n",
        "\n",
        "str() is used for creating output for end user while repr() is mainly used for debugging and development. repr’s goal is to be unambiguous and str’s is to be readable. For example, if we suspect a float has a small rounding error, repr will show us while str may not.\n",
        "repr() compute the “official” string representation of an object (a representation that has all information about the object) and str() is used to compute the “informal” string representation of an object (a representation that is useful for printing the object).\n",
        "The print statement and str() built-in function uses \\__str\\__ to display the string representation of the object while the repr() built-in function uses \\__repr\\__ to display the object.\n",
        "\n"
      ]
    },
    {
      "cell_type": "code",
      "metadata": {
        "id": "154_EK0Z8qdj",
        "colab_type": "code",
        "colab": {}
      },
      "source": [
        "import datetime \n",
        "today = datetime.datetime.now() \n",
        "  \n",
        "# Prints readable format for date-time object \n",
        "print(str(today) )\n",
        "  \n",
        "# prints the official format of date-time object \n",
        "print(repr(today) ) "
      ],
      "execution_count": 0,
      "outputs": []
    },
    {
      "cell_type": "markdown",
      "metadata": {
        "id": "lZBUN2qJ8zX5",
        "colab_type": "text"
      },
      "source": [
        "str() displays today’s date in a way that the user can understand the date and time.\n",
        "\n",
        "repr() prints “official” representation of a date-time object (means using the “official” string representation we can reconstruct the object).\n",
        "\n",
        "## How to make them work for our own defined classes?\n",
        "A user defined class should also have a __repr__ if we need detailed information for debugging. And if we think it would be useful to have a string version for users, we create a __str__ function."
      ]
    },
    {
      "cell_type": "code",
      "metadata": {
        "id": "vVjsK_yb84ZV",
        "colab_type": "code",
        "colab": {}
      },
      "source": [
        "# Python program to demonstrate writing of __repr__ and \n",
        "# __str__ for user defined classes \n",
        "  \n",
        "# A user defined class to represent Complex numbers \n",
        "class Complex: \n",
        "  \n",
        "    # Constructor \n",
        "    def __init__(self, real, imag): \n",
        "       self.real = real \n",
        "       self.imag = imag \n",
        "  \n",
        "    # For call to repr(). Prints object's information \n",
        "    def __repr__(self): \n",
        "       return 'Rational(%s, %s)' % (self.real, self.imag)     \n",
        "  \n",
        "    # For call to str(). Prints readable form \n",
        "    def __str__(self): \n",
        "       return '%s + i%s' % (self.real, self.imag)     \n",
        "  \n",
        "  \n",
        "# Driver program to test above \n",
        "t = Complex(10, 20) \n",
        "  \n",
        "print(str(t) ) # Same as \"print t\" \n",
        "print(repr(t) )"
      ],
      "execution_count": 0,
      "outputs": []
    },
    {
      "cell_type": "markdown",
      "metadata": {
        "id": "JaHyP3e49Cy4",
        "colab_type": "text"
      },
      "source": [
        ""
      ]
    },
    {
      "cell_type": "markdown",
      "metadata": {
        "id": "ZGZuXBcl90-S",
        "colab_type": "text"
      },
      "source": [
        "# Iterators in python\n",
        "Iterator in python is any python type that can be used with a ‘for in loop’. Python lists, tuples, dicts and sets are all examples of inbuilt iterators. These types are iterators because they implement following methods. In fact, any object that wants to be an iterator must implement following methods.\n",
        "\n",
        "\\__iter\\__ method that is called on initialization of an iterator. This should return an object that has a next or \\__next\\__ (in Python 3) method.\n",
        "next ( \\__next__ in Python 3) The iterator next method should return the next value for the iterable. When an iterator is used with a ‘for in’ loop, the for loop implicitly calls next() on the iterator object. This method should raise a StopIteration to signal the end of the iteration.\n",
        "Below is a simple Python program that creates iterator type that iterates from 10 to given limit. For example, if limit is 15, then it prints 10 11 12 13 14 15. And if limit is 5, then it prints nothing."
      ]
    },
    {
      "cell_type": "code",
      "metadata": {
        "id": "PpMypfFA-ANq",
        "colab_type": "code",
        "colab": {}
      },
      "source": [
        "\n",
        "class PrintNumber:\n",
        "    def __init__(self, max):\n",
        "        self.max = max\n",
        "\n",
        "    def __iter__(self):\n",
        "        self.num = 0\n",
        "        return self\n",
        "\n",
        "    def __next__(self):\n",
        "        if(self.num >= self.max):\n",
        "            raise StopIteration\n",
        "        self.num += 1\n",
        "        return self.num\n",
        "\n",
        "print_num = PrintNumber(3)\n",
        "\n",
        "print_num_iter = iter(print_num)\n",
        "print(next(print_num_iter))  # 1\n",
        "print(next(print_num_iter))  # 2\n",
        "print(next(print_num_iter))  # 3\n",
        "\n",
        "# raises StopIteration\n",
        "print(next(print_num_iter))"
      ],
      "execution_count": 0,
      "outputs": []
    },
    {
      "cell_type": "markdown",
      "metadata": {
        "id": "YLjUoxg7_lYX",
        "colab_type": "text"
      },
      "source": [
        "## Yield keyword in python\n",
        "\n",
        "The yield statement suspends function’s execution and sends a value back to the caller, but retains enough state to enable function to resume where it is left off. When resumed, the function continues execution immediately after the last yield run. This allows its code to produce a series of values over time, rather than computing them at once and sending them back like a list.\n",
        "\n",
        "Let’s see with an example:"
      ]
    },
    {
      "cell_type": "code",
      "metadata": {
        "id": "M79i1xsd_w3U",
        "colab_type": "code",
        "colab": {}
      },
      "source": [
        "# A Simple Python program to demonstrate working \n",
        "# of yield \n",
        "  \n",
        "# A generator function that yields 1 for the first time, \n",
        "# 2 second time and 3 third time \n",
        "def simpleGeneratorFun(): \n",
        "    yield 1\n",
        "    yield 2\n",
        "    yield 3\n",
        "  \n",
        "# Driver code to check above generator function \n",
        "for value in simpleGeneratorFun():  \n",
        "    print(value) "
      ],
      "execution_count": 0,
      "outputs": []
    },
    {
      "cell_type": "markdown",
      "metadata": {
        "id": "ZLWZv51Z_1OZ",
        "colab_type": "text"
      },
      "source": [
        "Return sends a specified value back to its caller whereas Yield can produce a sequence of values. We should use yield when we want to iterate over a sequence, but don’t want to store the entire sequence in memory.\n",
        "\n",
        "Yield are used in Python generators. A generator function is defined like a normal function, but whenever it needs to generate a value, it does so with the yield keyword rather than return. If the body of a def contains yield, the function automatically becomes a generator function."
      ]
    },
    {
      "cell_type": "code",
      "metadata": {
        "id": "1XKLGdcI_2tQ",
        "colab_type": "code",
        "colab": {}
      },
      "source": [
        "# A Python program to generate squares from 1 \n",
        "# to 100 using yield and therefore generator \n",
        "  \n",
        "# An infinite generator function that prints \n",
        "# next square number. It starts with 1 \n",
        "def nextSquare(): \n",
        "    i = 1; \n",
        "  \n",
        "    # An Infinite loop to generate squares  \n",
        "    while True: \n",
        "        yield i*i                 \n",
        "        i += 1  # Next execution resumes  \n",
        "                # from this point      \n",
        "  \n",
        "# Driver code to test above generator  \n",
        "# function \n",
        "for num in nextSquare(): \n",
        "    if num > 100: \n",
        "         break    \n",
        "    print(num) "
      ],
      "execution_count": 0,
      "outputs": []
    },
    {
      "cell_type": "markdown",
      "metadata": {
        "id": "3taU5-sXAFlO",
        "colab_type": "text"
      },
      "source": [
        "## Generators in python\n",
        "\n",
        "There are two terms involved when we discuss generators.\n",
        "\n",
        "1. Generator-Function : A generator-function is defined like a normal function, but whenever it needs to generate a value, it does so with the yield keyword rather than return. If the body of a def contains yield, the function automatically becomes a generator function.\n"
      ]
    },
    {
      "cell_type": "code",
      "metadata": {
        "id": "sW7fNu2IAObo",
        "colab_type": "code",
        "colab": {}
      },
      "source": [
        "# A generator function that yields 1 for first time, \n",
        "# 2 second time and 3 third time \n",
        "def simpleGeneratorFun(): \n",
        "    yield 1            \n",
        "    yield 2            \n",
        "    yield 3            \n",
        "   \n",
        "# Driver code to check above generator function \n",
        "for value in simpleGeneratorFun():  \n",
        "    print(value) "
      ],
      "execution_count": 0,
      "outputs": []
    },
    {
      "cell_type": "markdown",
      "metadata": {
        "id": "S7lin_umAMnc",
        "colab_type": "text"
      },
      "source": [
        "2. Generator-Object : Generator functions return a generator object. Generator objects are used either by calling the next method on the generator object or using the generator object in a “for in” loop (as shown in the above program)."
      ]
    },
    {
      "cell_type": "code",
      "metadata": {
        "id": "MWl8p1-PAUNF",
        "colab_type": "code",
        "colab": {}
      },
      "source": [
        "# A Python program to demonstrate use of  \n",
        "# generator object with next()  \n",
        "  \n",
        "# A generator function \n",
        "def simpleGeneratorFun(): \n",
        "    yield 1\n",
        "    yield 2\n",
        "    yield 3\n",
        "   \n",
        "# x is a generator object \n",
        "x = simpleGeneratorFun() \n",
        "  \n",
        "# Iterating over the generator object using next \n",
        "print(x.__next__()) # In Python 3, __next__() \n",
        "print(x.__next__()) \n",
        "print(x.__next__()) "
      ],
      "execution_count": 0,
      "outputs": []
    },
    {
      "cell_type": "markdown",
      "metadata": {
        "id": "7Wo-AkynAp0F",
        "colab_type": "text"
      },
      "source": [
        "So a generator function returns an generator object that is iterable, i.e., can be used as an Iterators .\n",
        "\n",
        "As another example, below is a generator for Fibonacci Numbers."
      ]
    },
    {
      "cell_type": "code",
      "metadata": {
        "id": "_p2YBCSyAuzY",
        "colab_type": "code",
        "colab": {}
      },
      "source": [
        "# A simple generator for Fibonacci Numbers \n",
        "def fib(limit): \n",
        "      \n",
        "    # Initialize first two Fibonacci Numbers  \n",
        "    a, b = 0, 1\n",
        "  \n",
        "    # One by one yield next Fibonacci Number \n",
        "    while a < limit: \n",
        "        yield a \n",
        "        a, b = b, a + b \n",
        "  \n",
        "# Create a generator object \n",
        "x = fib(5) \n",
        "  \n",
        "# Iterating over the generator object using next \n",
        "print(x.__next__()) # In Python 3, __next__() \n",
        "print(x.__next__()) \n",
        "print(x.__next__()) \n",
        "print(x.__next__()) \n",
        "print(x.__next__()) \n",
        "  \n",
        "# Iterating over the generator object using for \n",
        "# in loop. \n",
        "print(\"\\nUsing for in loop\") \n",
        "for i in fib(5):  \n",
        "    print(i) "
      ],
      "execution_count": 0,
      "outputs": []
    },
    {
      "cell_type": "markdown",
      "metadata": {
        "id": "_y_fYcXbA5VU",
        "colab_type": "text"
      },
      "source": [
        "# Decorators in python\n",
        "In Python, functions are the first class objects, which means that –\n",
        "\n",
        "Functions are objects; they can be referenced to, passed to a variable and returned from other functions as well.\n",
        "Functions can be defined inside another function and can also be passed as argument to another function.\n",
        "Decorators are very powerful and useful tool in Python since it allows programmers to modify the behavior of function or class. Decorators allow us to wrap another function in order to extend the behavior of wrapped function, without permanently modifying it.\n",
        "\n",
        "In Decorators, functions are taken as the argument into another function and then called inside the wrapper function.\n",
        "\n",
        "Syntax for Decorator:\n",
        "```\n",
        "@gfg_decorator\n",
        "def hello_decorator(): \n",
        "    print(\"Gfg\") \n",
        "  \n",
        "'''Above code is equivalent to - \n",
        "  \n",
        "def hello_decorator(): \n",
        "    print(\"Gfg\") \n",
        "      \n",
        "hello_decorator = gfg_decorator(hello_decorator)'''\n",
        "```\n",
        "\n",
        "In the above code, gfg_decorator is a callable function, will add some code on the top of some another callable function, hello_decorator function and return the wrapper function.\n",
        "\n",
        "\n"
      ]
    },
    {
      "cell_type": "code",
      "metadata": {
        "id": "dQpssSzXBIr0",
        "colab_type": "code",
        "colab": {}
      },
      "source": [
        "# defining a decorator \n",
        "def hello_decorator(func): \n",
        "  \n",
        "    # inner1 is a Wrapper function in  \n",
        "    # which the argument is called \n",
        "      \n",
        "    # inner function can access the outer local \n",
        "    # functions like in this case \"func\" \n",
        "    def inner1(): \n",
        "        print(\"Hello, this is before function execution\") \n",
        "  \n",
        "        # calling the actual function now \n",
        "        # inside the wrapper function. \n",
        "        func() \n",
        "  \n",
        "        print(\"This is after function execution\") \n",
        "          \n",
        "    return inner1 \n",
        "  \n",
        "  \n",
        "# defining a function, to be called inside wrapper \n",
        "def function_to_be_used(): \n",
        "    print(\"This is inside the function !!\") \n",
        "  \n",
        "  \n",
        "# passing 'function_to_be_used' inside the \n",
        "# decorator to control its behavior \n",
        "function_to_be_used = hello_decorator(function_to_be_used) \n",
        "  \n",
        "  \n",
        "# calling the function \n",
        "function_to_be_used() \n"
      ],
      "execution_count": 0,
      "outputs": []
    },
    {
      "cell_type": "markdown",
      "metadata": {
        "id": "oC14V6iqDodM",
        "colab_type": "text"
      },
      "source": [
        "Let’s jump to another example where we can easily find out the execution time of a function using a decorator."
      ]
    },
    {
      "cell_type": "code",
      "metadata": {
        "id": "8Q03zzxODaZd",
        "colab_type": "code",
        "colab": {}
      },
      "source": [
        "\n",
        "\n",
        "# importing libraries \n",
        "import time \n",
        "import math \n",
        "  \n",
        "# decorator to calculate duration \n",
        "# taken by any function. \n",
        "def calculate_time(func): \n",
        "      \n",
        "    # added arguments inside the inner1, \n",
        "    # if function takes any arguments, \n",
        "    # can be added like this. \n",
        "    def inner1(*args, **kwargs): \n",
        "  \n",
        "        # storing time before function execution \n",
        "        begin = time.time() \n",
        "          \n",
        "        func(*args, **kwargs) \n",
        "  \n",
        "        # storing time after function execution \n",
        "        end = time.time() \n",
        "        print(\"Total time taken in : \", func.__name__, end - begin) \n",
        "  \n",
        "    return inner1 \n",
        "  \n",
        "  \n",
        "  \n",
        "# this can be added to any function present, \n",
        "# in this case to calculate a factorial \n",
        "@calculate_time\n",
        "def factorial(num): \n",
        "  \n",
        "    # sleep 2 seconds because it takes very less time \n",
        "    # so that you can see the actual difference \n",
        "    time.sleep(2) \n",
        "    print(math.factorial(num)) \n",
        "  \n",
        "# calling the function. \n",
        "factorial(10) "
      ],
      "execution_count": 0,
      "outputs": []
    },
    {
      "cell_type": "markdown",
      "metadata": {
        "id": "ldAwGbUzDqvu",
        "colab_type": "text"
      },
      "source": [
        "##What if a function returns something –\n",
        "\n",
        "In all the above examples the functions didn’t return anything so there wasn’t any issue, but one may need the returned value."
      ]
    },
    {
      "cell_type": "code",
      "metadata": {
        "id": "wFYw5jndDvaL",
        "colab_type": "code",
        "colab": {}
      },
      "source": [
        "def hello_decorator(func): \n",
        "    def inner1(*args, **kwargs): \n",
        "          \n",
        "        print(\"before Execution\") \n",
        "          \n",
        "        # getting the returned value \n",
        "        returned_value = func(*args, **kwargs) \n",
        "        print(\"after Execution\") \n",
        "          \n",
        "        # returning the value to the original frame \n",
        "        return returned_value \n",
        "          \n",
        "    return inner1 \n",
        "  \n",
        "  \n",
        "# adding decorator to the function \n",
        "@hello_decorator\n",
        "def sum_two_numbers(a, b): \n",
        "    print(\"Inside the function\") \n",
        "    return a + b \n",
        "  \n",
        "a, b = 1, 2\n",
        "  \n",
        "# getting the value through return of the function \n",
        "print(\"Sum =\", sum_two_numbers(a, b)) "
      ],
      "execution_count": 0,
      "outputs": []
    },
    {
      "cell_type": "markdown",
      "metadata": {
        "id": "P8d_x30eqZkD",
        "colab_type": "text"
      },
      "source": [
        "# Interfaces\n",
        "\n",
        "At a high level, an interface acts as a blueprint for designing classes. Like classes, interfaces define methods. Unlike classes, these methods are abstract. An abstract method is one that the interface simply defines. It doesn’t implement the methods. This is done by classes, which then implement the interface and give concrete meaning to the interface’s abstract methods.\n",
        "\n",
        "Python’s approach to interface design is somewhat different when compared to languages like Java, Go, and C++. These languages all have an interface keyword, while Python does not. Python further deviates from other languages in one other aspect. It doesn’t require the class that’s implementing the interface to define all of the interface’s abstract methods.\n",
        "\n",
        "###Informal Interfaces\n",
        "\n",
        "In certain circumstances, you may not need the strict rules of a formal Python interface. Python’s dynamic nature allows you to implement an informal interface. An informal Python interface is a class that defines methods that can be overridden, but there’s no strict enforcement.\n",
        "\n",
        "In the following example, you’ll take the perspective of a data engineer who needs to extract text from various different unstructured file types, like PDFs and emails. You’ll create an informal interface that defines the methods that will be in both the PdfParser and EmlParser concrete classes:"
      ]
    },
    {
      "cell_type": "code",
      "metadata": {
        "id": "9bIwH3pSqIIT",
        "colab_type": "code",
        "colab": {}
      },
      "source": [
        "class InformalParserInterface:\n",
        "    def load_data_source(self, path: str, file_name: str) -> str:\n",
        "        \"\"\"Load in the file for extracting text.\"\"\"\n",
        "        pass\n",
        "\n",
        "    def extract_text(self, full_file_name: str) -> dict:\n",
        "        \"\"\"Extract text from the currently loaded file.\"\"\"\n",
        "        pass"
      ],
      "execution_count": 0,
      "outputs": []
    },
    {
      "cell_type": "markdown",
      "metadata": {
        "id": "sM7Ca7x0q11U",
        "colab_type": "text"
      },
      "source": [
        "InformalParserInterface defines the two methods .load_data_source() and .extract_text(). These methods are defined but not implemented. The implementation will occur once you create concrete classes that inherit from InformalParserInterface.\n",
        "\n",
        "As you can see, InformalParserInterface looks identical to a standard Python class. You rely on duck typing to inform users that this is an interface and should be used accordingly.\n",
        "\n",
        "Duck typing is a concept related to dynamic typing, where the type or the class of an object is less important than the methods it defines. When you use duck typing, you do not check types at all. Instead, you check for the presence of a given method or attribute.\n",
        "\n",
        "With duck typing in mind, you define two classes that implement the InformalParserInterface. To use your interface, you must create a concrete class. A concrete class is a subclass of the interface that provides an implementation of the interface’s methods. You’ll create two concrete classes to implement your interface. The first is PdfParser, which you’ll use to parse the text from PDF files:\n"
      ]
    },
    {
      "cell_type": "code",
      "metadata": {
        "id": "vc7B9F1Qqztk",
        "colab_type": "code",
        "colab": {}
      },
      "source": [
        "class PdfParser(InformalParserInterface):\n",
        "    \"\"\"Extract text from a PDF\"\"\"\n",
        "    def load_data_source(self, path: str, file_name: str) -> str:\n",
        "        \"\"\"Overrides InformalParserInterface.load_data_source()\"\"\"\n",
        "        pass\n",
        "\n",
        "    def extract_text(self, full_file_path: str) -> dict:\n",
        "        \"\"\"Overrides InformalParserInterface.extract_text()\"\"\"\n",
        "        pass"
      ],
      "execution_count": 0,
      "outputs": []
    },
    {
      "cell_type": "markdown",
      "metadata": {
        "id": "G7E87kqSrFct",
        "colab_type": "text"
      },
      "source": [
        "The concrete implementation of InformalParserInterface now allows you to extract text from PDF files.\n",
        "\n",
        "The second concrete class is EmlParser, which you’ll use to parse the text from emails:"
      ]
    },
    {
      "cell_type": "code",
      "metadata": {
        "id": "eGDTSK8FrDYj",
        "colab_type": "code",
        "colab": {}
      },
      "source": [
        "class EmlParser(InformalParserInterface):\n",
        "    \"\"\"Extract text from an email\"\"\"\n",
        "    def load_data_source(self, path: str, file_name: str) -> str:\n",
        "        \"\"\"Overrides InformalParserInterface.load_data_source()\"\"\"\n",
        "        pass\n",
        "\n",
        "    def extract_text_from_email(self, full_file_path: str) -> dict:\n",
        "        \"\"\"A method defined only in EmlParser.\n",
        "        Does not override InformalParserInterface.extract_text()\n",
        "        \"\"\"\n",
        "        pass\n"
      ],
      "execution_count": 0,
      "outputs": []
    },
    {
      "cell_type": "markdown",
      "metadata": {
        "id": "Vl6jrPVirJUm",
        "colab_type": "text"
      },
      "source": [
        "The concrete implementation of InformalParserInterface now allows you to extract text from email files.\n",
        "\n",
        "So far, you’ve defined two concrete implementations of the InformalPythonInterface. However, note that EmlParser fails to properly define .extract_text(). If you were to check whether EmlParser implements InformalParserInterface, then you’d get the following result:\n",
        "\n"
      ]
    },
    {
      "cell_type": "code",
      "metadata": {
        "id": "Lp0FHk-ErHe_",
        "colab_type": "code",
        "colab": {}
      },
      "source": [
        "print(issubclass(PdfParser, InformalParserInterface))\n",
        "print(issubclass(EmlParser, InformalParserInterface))"
      ],
      "execution_count": 0,
      "outputs": []
    },
    {
      "cell_type": "markdown",
      "metadata": {
        "id": "xzneW4_Krmtq",
        "colab_type": "text"
      },
      "source": [
        "This would return True, which poses a bit of a problem since it violates the definition of an interface!\n",
        "\n",
        "Now check the method resolution order (MRO) of PdfParser and EmlParser. This tells you the superclasses of the class in question, as well as the order in which they’re searched for executing a method. You can view a class’s MRO by using the dunder method"
      ]
    },
    {
      "cell_type": "code",
      "metadata": {
        "id": "rpvrieTurMcF",
        "colab_type": "code",
        "colab": {}
      },
      "source": [
        "print(PdfParser.__mro__)\n",
        "print(EmlParser.__mro__)"
      ],
      "execution_count": 0,
      "outputs": []
    },
    {
      "cell_type": "markdown",
      "metadata": {
        "id": "UU6iFSQnr5HK",
        "colab_type": "text"
      },
      "source": [
        "Such informal interfaces are fine for small projects where only a few developers are working on the source code. However, as projects get larger and teams grow, this could lead to developers spending countless hours looking for hard-to-find logic errors in the codebase!"
      ]
    },
    {
      "cell_type": "markdown",
      "metadata": {
        "id": "jdkPUOausDnn",
        "colab_type": "text"
      },
      "source": [
        "Using Metaclasses\n",
        "Ideally, you would want issubclass(EmlParser, InformalParserInterface to return False when the implementing class doesn’t define all of the interface’s abstract methods. To do this, you’ll create a metaclass called ParserMeta. You’ll be overriding two dunder methods:\n",
        "\n",
        ".__instancecheck__()\n",
        ".__subclasscheck__()\n",
        "In the code block below, you create a class called UpdatedInformalParserInterface that builds from the ParserMeta metaclass:\n",
        "\n"
      ]
    },
    {
      "cell_type": "code",
      "metadata": {
        "id": "zjRd5lOOrtE6",
        "colab_type": "code",
        "colab": {}
      },
      "source": [
        "class ParserMeta(type):\n",
        "    \"\"\"A Parser metaclass that will be used for parser class creation.\n",
        "    \"\"\"\n",
        "    def __instancecheck__(cls, instance):\n",
        "        return cls.__subclasscheck__(type(instance))\n",
        "\n",
        "    def __subclasscheck__(cls, subclass):\n",
        "        return (hasattr(subclass, 'load_data_source') and \n",
        "                callable(subclass.load_data_source) and \n",
        "                hasattr(subclass, 'extract_text') and \n",
        "                callable(subclass.extract_text))\n",
        "\n",
        "class UpdatedInformalParserInterface(metaclass=ParserMeta):\n",
        "    \"\"\"This interface is used for concrete classes to inherit from.\n",
        "    There is no need to define the ParserMeta methods as any class\n",
        "    as they are implicitly made available via .__subclasscheck__().\n",
        "    \"\"\"\n",
        "    pass"
      ],
      "execution_count": 0,
      "outputs": []
    },
    {
      "cell_type": "markdown",
      "metadata": {
        "id": "2z7zuuZ9sKSx",
        "colab_type": "text"
      },
      "source": [
        "Now that ParserMeta and UpdatedInformalParserInterface have been created, you can create your concrete implementations.\n",
        "\n",
        "First, create a new class for parsing PDFs called PdfParserNew:"
      ]
    },
    {
      "cell_type": "code",
      "metadata": {
        "id": "qXTZaQtIsH41",
        "colab_type": "code",
        "colab": {}
      },
      "source": [
        "class PdfParserNew:\n",
        "    \"\"\"Extract text from a PDF.\"\"\"\n",
        "    def load_data_source(self, path: str, file_name: str) -> str:\n",
        "        \"\"\"Overrides UpdatedInformalParserInterface.load_data_source()\"\"\"\n",
        "        pass\n",
        "\n",
        "    def extract_text(self, full_file_path: str) -> dict:\n",
        "        \"\"\"Overrides UpdatedInformalParserInterface.extract_text()\"\"\"\n",
        "        pass"
      ],
      "execution_count": 0,
      "outputs": []
    },
    {
      "cell_type": "markdown",
      "metadata": {
        "id": "Hwmsn1CYsP8e",
        "colab_type": "text"
      },
      "source": [
        "Here, PdfParserNew overrides .load_data_source() and .extract_text(), so issubclass(PdfParserNew, UpdatedInformalParserInterface) should return True.\n",
        "\n",
        "In this next code block, you have a new implementation of the email parser called EmlParserNew:"
      ]
    },
    {
      "cell_type": "code",
      "metadata": {
        "id": "KUfVK6F5sM6G",
        "colab_type": "code",
        "colab": {}
      },
      "source": [
        "class EmlParserNew:\n",
        "    \"\"\"Extract text from an email.\"\"\"\n",
        "    def load_data_source(self, path: str, file_name: str) -> str:\n",
        "        \"\"\"Overrides UpdatedInformalParserInterface.load_data_source()\"\"\"\n",
        "        pass\n",
        "\n",
        "    def extract_text_from_email(self, full_file_path: str) -> dict:\n",
        "        \"\"\"A method defined only in EmlParser.\n",
        "        Does not override UpdatedInformalParserInterface.extract_text()\n",
        "        \"\"\"\n",
        "        pass"
      ],
      "execution_count": 0,
      "outputs": []
    },
    {
      "cell_type": "markdown",
      "metadata": {
        "id": "yc9m0WhrsVdi",
        "colab_type": "text"
      },
      "source": [
        "Here, you have a metaclass that’s used to create UpdatedInformalParserInterface. By using a metaclass, you don’t need to explicitly define the subclasses. Instead, the subclass must define the required methods. If it doesn’t, then issubclass(EmlParserNew, UpdatedInformalParserInterface) will return False.\n",
        "\n",
        "Running issubclass() on your concrete classes will produce the following:"
      ]
    },
    {
      "cell_type": "code",
      "metadata": {
        "id": "YwilbWpxsTM-",
        "colab_type": "code",
        "colab": {}
      },
      "source": [
        "print(issubclass(PdfParserNew, UpdatedInformalParserInterface))\n",
        "print(issubclass(EmlParserNew, UpdatedInformalParserInterface))"
      ],
      "execution_count": 0,
      "outputs": []
    },
    {
      "cell_type": "markdown",
      "metadata": {
        "id": "PAThtLzgsfaz",
        "colab_type": "text"
      },
      "source": [
        "As expected, EmlParserNew is not a subclass of UpdatedInformalParserInterface since .extract_text() wasn’t defined in EmlParserNew.\n",
        "\n",
        "Now, let’s have a look at the MRO:"
      ]
    },
    {
      "cell_type": "code",
      "metadata": {
        "id": "RqkWN-A7sdHo",
        "colab_type": "code",
        "colab": {}
      },
      "source": [
        "PdfParserNew.__mro__"
      ],
      "execution_count": 0,
      "outputs": []
    },
    {
      "cell_type": "markdown",
      "metadata": {
        "id": "JOuIcf4Gsk-r",
        "colab_type": "text"
      },
      "source": [
        "As you can see, UpdatedInformalParserInterface is a superclass of PdfParserNew, but it doesn’t appear in the MRO. This unusual behavior is caused by the fact that UpdatedInformalParserInterface is a virtual base class of PdfParserNew.\n",
        "\n",
        "##Using Virtual Base Classes\n",
        "In the previous example, issubclass(EmlParserNew, UpdatedInformalParserInterface) returned True, even though UpdatedInformalParserInterface did not appear in the EmlParserNew MRO. That’s because UpdatedInformalParserInterface is a virtual base class of EmlParserNew.\n",
        "\n",
        "The key difference between these and standard subclasses is that virtual base classes use the .__subclasscheck__() dunder method to implicitly check if a class is a virtual subclass of the superclass. Additionally, virtual base classes don’t appear in the subclass MRO.\n",
        "\n",
        "Take a look at this code block:"
      ]
    },
    {
      "cell_type": "code",
      "metadata": {
        "id": "C-eaq9WhsiVl",
        "colab_type": "code",
        "colab": {}
      },
      "source": [
        "class PersonMeta(type):\n",
        "    \"\"\"A person metaclass\"\"\"\n",
        "    def __instancecheck__(cls, instance):\n",
        "        return cls.__subclasscheck__(type(instance))\n",
        "\n",
        "    def __subclasscheck__(cls, subclass):\n",
        "        return (hasattr(subclass, 'name') and \n",
        "                callable(subclass.name) and \n",
        "                hasattr(subclass, 'age') and \n",
        "                callable(subclass.age))\n",
        "\n",
        "class PersonSuper:\n",
        "    \"\"\"A person superclass\"\"\"\n",
        "    def name(self) -> str:\n",
        "        pass\n",
        "\n",
        "    def age(self) -> int:\n",
        "        pass\n",
        "\n",
        "class Person(metaclass=PersonMeta):\n",
        "    \"\"\"Person interface built from PersonMeta metaclass.\"\"\"\n",
        "    pass"
      ],
      "execution_count": 0,
      "outputs": []
    },
    {
      "cell_type": "markdown",
      "metadata": {
        "id": "Zfuq8iR3ssHa",
        "colab_type": "text"
      },
      "source": [
        "Here, you have the setup for creating your virtual base classes:\n",
        "\n",
        "The metaclass PersonMeta\n",
        "The base class PersonSuper\n",
        "The Python interface Person\n",
        "Now that the setup for creating virtual base classes is done you’ll define two concrete classes, Employee and Friend. The Employee class inherits from PersonSuper, while Friend implicitly inherits from Person:\n",
        "\n"
      ]
    },
    {
      "cell_type": "code",
      "metadata": {
        "id": "epQzLLhdspne",
        "colab_type": "code",
        "colab": {}
      },
      "source": [
        "# Inheriting subclasses\n",
        "class Employee(PersonSuper):\n",
        "    \"\"\"Inherits from PersonSuper\n",
        "    PersonSuper will appear in Employee.__mro__\n",
        "    \"\"\"\n",
        "    pass\n",
        "\n",
        "class Friend:\n",
        "    \"\"\"Built implicitly from Person\n",
        "    Friend is a virtual subclass of Person since\n",
        "    both required methods exist.\n",
        "    Person not in Friend.__mro__\n",
        "    \"\"\"\n",
        "    def name(self):\n",
        "        pass\n",
        "\n",
        "    def age(self):\n",
        "        pass"
      ],
      "execution_count": 0,
      "outputs": []
    },
    {
      "cell_type": "markdown",
      "metadata": {
        "id": "NrB6dwDwsyoC",
        "colab_type": "text"
      },
      "source": [
        "Although Friend does not explicitly inherit from Person, it implements .name() and .age(), so Person becomes a virtual base class of Friend. When you run issubclass(Friend, Person) it should return True, meaning that Friend is a subclass of Person."
      ]
    },
    {
      "cell_type": "markdown",
      "metadata": {
        "id": "Hopwrcs2s03d",
        "colab_type": "text"
      },
      "source": [
        "![alt text](data:image/png;base64,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)))"
      ]
    },
    {
      "cell_type": "markdown",
      "metadata": {
        "id": "vlBTJOvJh7z4",
        "colab_type": "text"
      },
      "source": [
        "Taking a look at PersonMeta, you’ll notice that there’s another dunder method called \\__instancecheck\\__(). This method is used to check if instances of Friend are created from the Person interface. Your code will call .\\__instancecheck\\__() when you use isinstance(Friend, Person).\n",
        "\n",
        "## Formal Interfaces\n",
        "Informal interfaces can be useful for projects with a small code base and a limited number of programmers. However, informal interfaces would be the wrong approach for larger applications. In order to create a formal Python interface, you’ll need a few more tools from Python’s abc module.\n",
        "\n",
        "### Using abc.ABCMeta\n",
        "\n",
        "To enforce the subclass instantiation of abstract methods, you’ll utilize Python’s builtin ABCMeta from the abc module. Going back to your UpdatedInformalParserInterface interface, you created your own metaclass, ParserMeta, with the overridden dunder methods \\__instancecheck\\__() and .\\__subclasscheck\\__().\n",
        "\n",
        "Rather than create your own metaclass, you’ll use abc.ABCMeta as the metaclass. Then, you’ll overwrite \\__subclasshook\\__() in place of \\__instancecheck\\__() and \\__subclasscheck\\__(), as it creates a more reliable implementation of these dunder methods.\n",
        "\n",
        "### Using \\__subclasshook\\__()\n",
        "\n",
        "Here’s the implementation of FormalParserInterface using abc.ABCMeta as your metaclass:\n",
        "\n"
      ]
    },
    {
      "cell_type": "code",
      "metadata": {
        "id": "XoRa1R-6mt64",
        "colab_type": "code",
        "colab": {}
      },
      "source": [
        "import abc\n",
        "\n",
        "class FormalParserInterface(metaclass=abc.ABCMeta):\n",
        "    @classmethod\n",
        "    def __subclasshook__(cls, subclass):\n",
        "        return (hasattr(subclass, 'load_data_source') and \n",
        "                callable(subclass.load_data_source) and \n",
        "                hasattr(subclass, 'extract_text') and \n",
        "                callable(subclass.extract_text))\n",
        "\n",
        "class PdfParserNew:\n",
        "    \"\"\"Extract text from a PDF.\"\"\"\n",
        "    def load_data_source(self, path: str, file_name: str) -> str:\n",
        "        \"\"\"Overrides FormalParserInterface.load_data_source()\"\"\"\n",
        "        pass\n",
        "\n",
        "    def extract_text(self, full_file_path: str) -> dict:\n",
        "        \"\"\"Overrides FormalParserInterface.extract_text()\"\"\"\n",
        "        pass\n",
        "\n",
        "class EmlParserNew:\n",
        "    \"\"\"Extract text from an email.\"\"\"\n",
        "    def load_data_source(self, path: str, file_name: str) -> str:\n",
        "        \"\"\"Overrides FormalParserInterface.load_data_source()\"\"\"\n",
        "        pass\n",
        "\n",
        "    def extract_text_from_email(self, full_file_path: str) -> dict:\n",
        "        \"\"\"A method defined only in EmlParser.\n",
        "        Does not override FormalParserInterface.extract_text()\n",
        "        \"\"\"\n",
        "        pass"
      ],
      "execution_count": 0,
      "outputs": []
    },
    {
      "cell_type": "markdown",
      "metadata": {
        "id": "zMCyVeIUm3Up",
        "colab_type": "text"
      },
      "source": [
        "If you run issubclass() on PdfParserNew and EmlParserNew, then issubclass() will return True and False, respectively.\n",
        "\n",
        "## Using abc to Register a Virtual Subclass\n",
        "\n",
        "Once you’ve imported the abc module, you can directly register a virtual subclass by using the .register() metamethod. In the next example, you register the interface Double as a virtual base class of the built-in \\__float\\__ class:\n"
      ]
    },
    {
      "cell_type": "code",
      "metadata": {
        "id": "LEyaTQVRnLB6",
        "colab_type": "code",
        "colab": {}
      },
      "source": [
        "class Double(metaclass=abc.ABCMeta):\n",
        "    \"\"\"Double precision floating point number.\"\"\"\n",
        "    pass\n",
        "\n",
        "Double.register(float)"
      ],
      "execution_count": 0,
      "outputs": []
    },
    {
      "cell_type": "markdown",
      "metadata": {
        "id": "4h1R2n1GnQF-",
        "colab_type": "text"
      },
      "source": [
        "You can check out the effect of using register():"
      ]
    },
    {
      "cell_type": "code",
      "metadata": {
        "id": "N0fSS81lswEj",
        "colab_type": "code",
        "colab": {}
      },
      "source": [
        "print(issubclass(float, Double))\n",
        "print(isinstance(1.2345, Double))"
      ],
      "execution_count": 0,
      "outputs": []
    },
    {
      "cell_type": "markdown",
      "metadata": {
        "id": "21gjCOvsoDd2",
        "colab_type": "text"
      },
      "source": [
        "By using the register() meta method, you’ve successfully registered Double as a virtual subclass of float.\n",
        "\n",
        "Once you’ve registered Double, you can use it as class decorator to set the decorated class as a virtual subclass:"
      ]
    },
    {
      "cell_type": "code",
      "metadata": {
        "id": "feYfIvR7oBbx",
        "colab_type": "code",
        "colab": {}
      },
      "source": [
        "@Double.register\n",
        "class Double64:\n",
        "    \"\"\"A 64-bit double-precision floating-point number.\"\"\"\n",
        "    pass\n",
        "\n",
        "print(issubclass(Double64, Double))  # True"
      ],
      "execution_count": 0,
      "outputs": []
    },
    {
      "cell_type": "markdown",
      "metadata": {
        "id": "HdlF8DTpoL6J",
        "colab_type": "text"
      },
      "source": [
        "The decorator register method helps you to create a hierarchy of custom virtual class inheritance.\n",
        "\n",
        "Using Subclass Detection With Registration\n",
        "You must be careful when you’re combining \\__subclasshook\\__() with register(), as \\__subclasshook\\__() takes precedence over virtual subclass registration. To ensure that the registered virtual subclasses are taken into consideration, you must add NotImplemented to the \\__subclasshook\\__() dunder method. The FormalParserInterface would be updated to the following:"
      ]
    },
    {
      "cell_type": "code",
      "metadata": {
        "id": "a3MDpjhNoJJ7",
        "colab_type": "code",
        "colab": {}
      },
      "source": [
        "class FormalParserInterface(metaclass=abc.ABCMeta):\n",
        "    @classmethod\n",
        "    def __subclasshook__(cls, subclass):\n",
        "        return (hasattr(subclass, 'load_data_source') and \n",
        "                callable(subclass.load_data_source) and \n",
        "                hasattr(subclass, 'extract_text') and \n",
        "                callable(subclass.extract_text) or \n",
        "                NotImplemented)\n",
        "\n",
        "class PdfParserNew:\n",
        "    \"\"\"Extract text from a PDF.\"\"\"\n",
        "    def load_data_source(self, path: str, file_name: str) -> str:\n",
        "        \"\"\"Overrides FormalParserInterface.load_data_source()\"\"\"\n",
        "        pass\n",
        "\n",
        "    def extract_text(self, full_file_path: str) -> dict:\n",
        "        \"\"\"Overrides FormalParserInterface.extract_text()\"\"\"\n",
        "        pass\n",
        "\n",
        "@FormalParserInterface.register\n",
        "class EmlParserNew:\n",
        "    \"\"\"Extract text from an email.\"\"\"\n",
        "    def load_data_source(self, path: str, file_name: str) -> str:\n",
        "        \"\"\"Overrides FormalParserInterface.load_data_source()\"\"\"\n",
        "        pass\n",
        "\n",
        "    def extract_text_from_email(self, full_file_path: str) -> dict:\n",
        "        \"\"\"A method defined only in EmlParser.\n",
        "        Does not override FormalParserInterface.extract_text()\n",
        "        \"\"\"\n",
        "        pass\n",
        "\n",
        "print(issubclass(PdfParserNew, FormalParserInterface))  # True\n",
        "print(issubclass(EmlParserNew, FormalParserInterface))  # True"
      ],
      "execution_count": 0,
      "outputs": []
    },
    {
      "cell_type": "markdown",
      "metadata": {
        "id": "Ausr_HVVoauy",
        "colab_type": "text"
      },
      "source": [
        "Since you’ve used registration, you can see that EmlParserNew is considered a virtual subclass of your FormalParserInterface interface. This is not what you wanted since EmlParserNew doesn’t override extract_text(). Please use caution with virtual subclass registration!\n",
        "\n",
        "### Using Abstract Method Declaration\n",
        "\n",
        "An abstract method is a method that’s declared by the Python interface, but it may not have a useful implementation. The abstract method must be overridden by the concrete class that implements the interface in question.\n",
        "\n",
        "To create abstract methods in Python, you add the @abc.abstract method decorator to the interface’s methods. In the next example, you update the FormalParserInterface to include the abstract methods load_data_source() and extract_text():"
      ]
    },
    {
      "cell_type": "code",
      "metadata": {
        "id": "aFo2knt6o0PY",
        "colab_type": "code",
        "colab": {}
      },
      "source": [
        "class FormalParserInterface(metaclass=abc.ABCMeta):\n",
        "    @classmethod\n",
        "    def __subclasshook__(cls, subclass):\n",
        "        return (hasattr(subclass, 'load_data_source') and \n",
        "                callable(subclass.load_data_source) and \n",
        "                hasattr(subclass, 'extract_text') and \n",
        "                callable(subclass.extract_text) or \n",
        "                NotImplemented)\n",
        "\n",
        "    @abc.abstractmethod\n",
        "    def load_data_source(self, path: str, file_name: str):\n",
        "        \"\"\"Load in the data set\"\"\"\n",
        "        raise NotImplementedError\n",
        "\n",
        "    @abc.abstractmethod\n",
        "    def extract_text(self, full_file_path: str):\n",
        "        \"\"\"Extract text from the data set\"\"\"\n",
        "        raise NotImplementedError\n",
        "\n",
        "class PdfParserNew(FormalParserInterface):\n",
        "    \"\"\"Extract text from a PDF.\"\"\"\n",
        "    def load_data_source(self, path: str, file_name: str) -> str:\n",
        "        \"\"\"Overrides FormalParserInterface.load_data_source()\"\"\"\n",
        "        pass\n",
        "\n",
        "    def extract_text(self, full_file_path: str) -> dict:\n",
        "        \"\"\"Overrides FormalParserInterface.extract_text()\"\"\"\n",
        "        pass\n",
        "\n",
        "class EmlParserNew(FormalParserInterface):\n",
        "    \"\"\"Extract text from an email.\"\"\"\n",
        "    def load_data_source(self, path: str, file_name: str) -> str:\n",
        "        \"\"\"Overrides FormalParserInterface.load_data_source()\"\"\"\n",
        "        pass\n",
        "\n",
        "    def extract_text_from_email(self, full_file_path: str) -> dict:\n",
        "        \"\"\"A method defined only in EmlParser.\n",
        "        Does not override FormalParserInterface.extract_text()\n",
        "        \"\"\"\n",
        "        pass"
      ],
      "execution_count": 0,
      "outputs": []
    },
    {
      "cell_type": "markdown",
      "metadata": {
        "id": "b7oFbw7Ao4Ha",
        "colab_type": "text"
      },
      "source": [
        "In the above example, you’ve finally created a formal interface that will raise errors when the abstract methods aren’t overridden. The PdfParserNew instance, pdf_parser, won’t raise any errors, as PdfParserNew is correctly overriding the FormalParserInterface abstract methods. However, EmlParserNew will raise an error:"
      ]
    },
    {
      "cell_type": "code",
      "metadata": {
        "id": "gB7OqFtqoZZA",
        "colab_type": "code",
        "colab": {}
      },
      "source": [
        "pdf_parser = PdfParserNew()\n",
        "eml_parser = EmlParserNew()\n",
        "eml_interface = EmlParserNew()"
      ],
      "execution_count": 0,
      "outputs": []
    },
    {
      "cell_type": "markdown",
      "metadata": {
        "id": "Vf8YmS0ppLCg",
        "colab_type": "text"
      },
      "source": [
        "As you can see, the traceback message tells you that you haven’t overridden all the abstract methods. This is the behavior you expect when building a formal Python interface."
      ]
    },
    {
      "cell_type": "markdown",
      "metadata": {
        "id": "qE_-M4PGpSYK",
        "colab_type": "text"
      },
      "source": [
        "## Conclusion\n",
        "\n",
        "Python offers great flexibility when you’re creating interfaces. An informal Python interface is useful for small projects where you’re less likely to get confused as to what the return types of the methods are. As a project grows, the need for a formal Python interface becomes more important as it becomes more difficult to infer return types. This ensures that the concrete class, which implements the interface, overwrites the abstract methods.\n",
        "\n",
        "Now you can:\n",
        "\n",
        "Understand how interfaces work and the caveats of creating a Python interface\n",
        "Understand the usefulness of interfaces in a dynamic language like Python\n",
        "Implement formal and informal interfaces in Python\n",
        "Compare Python interfaces to those in languages like Java, C++, and Go\n",
        "Now that you’ve become familiar with how to create a Python interface, add a Python interface to your next project to see its usefulness in action! \n",
        "\n"
      ]
    },
    {
      "cell_type": "code",
      "metadata": {
        "id": "XhkhzWxdpDTX",
        "colab_type": "code",
        "colab": {}
      },
      "source": [
        ""
      ],
      "execution_count": 0,
      "outputs": []
    }
  ]
}